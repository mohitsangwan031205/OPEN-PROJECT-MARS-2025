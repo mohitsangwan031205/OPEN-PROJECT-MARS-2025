{
 "cells": [
  {
   "cell_type": "code",
   "execution_count": 1,
   "id": "59f2ef2b",
   "metadata": {},
   "outputs": [
    {
     "name": "stderr",
     "output_type": "stream",
     "text": [
      "C:\\Users\\mohit\\anaconda3\\Lib\\site-packages\\paramiko\\transport.py:219: CryptographyDeprecationWarning: Blowfish has been deprecated\n",
      "  \"class\": algorithms.Blowfish,\n"
     ]
    },
    {
     "name": "stdout",
     "output_type": "stream",
     "text": [
      "Error processing 03-02-01-01-01-02-03.wav: melspectrogram() takes 0 positional arguments but 1 positional argument (and 1 keyword-only argument) were given\n",
      "Error processing 03-02-01-01-02-01-03.wav: melspectrogram() takes 0 positional arguments but 1 positional argument (and 1 keyword-only argument) were given\n",
      "Error processing 03-02-01-01-02-02-03.wav: melspectrogram() takes 0 positional arguments but 1 positional argument (and 1 keyword-only argument) were given\n",
      "Error processing 03-02-02-01-01-01-03.wav: melspectrogram() takes 0 positional arguments but 1 positional argument (and 1 keyword-only argument) were given\n",
      "Error processing 03-02-02-01-01-02-03.wav: melspectrogram() takes 0 positional arguments but 1 positional argument (and 1 keyword-only argument) were given\n",
      "Error processing 03-02-02-01-02-01-03.wav: melspectrogram() takes 0 positional arguments but 1 positional argument (and 1 keyword-only argument) were given\n",
      "Error processing 03-02-02-01-02-02-03.wav: melspectrogram() takes 0 positional arguments but 1 positional argument (and 1 keyword-only argument) were given\n",
      "Error processing 03-02-02-02-01-01-03.wav: melspectrogram() takes 0 positional arguments but 1 positional argument (and 1 keyword-only argument) were given\n",
      "Error processing 03-02-02-02-01-02-03.wav: melspectrogram() takes 0 positional arguments but 1 positional argument (and 1 keyword-only argument) were given\n",
      "Error processing 03-02-02-02-02-01-03.wav: melspectrogram() takes 0 positional arguments but 1 positional argument (and 1 keyword-only argument) were given\n",
      "Error processing 03-02-02-02-02-02-03.wav: melspectrogram() takes 0 positional arguments but 1 positional argument (and 1 keyword-only argument) were given\n",
      "Error processing 03-02-03-01-01-01-03.wav: melspectrogram() takes 0 positional arguments but 1 positional argument (and 1 keyword-only argument) were given\n",
      "\n",
      "All results saved to predictions.csv\n"
     ]
    }
   ],
   "source": [
    "from test_model import test_model_on_folder\n",
    "test_model_on_folder(\"../test_wavs/\")\n"
   ]
  },
  {
   "cell_type": "code",
   "execution_count": 2,
   "id": "f65f756f",
   "metadata": {},
   "outputs": [
    {
     "name": "stdout",
     "output_type": "stream",
     "text": [
      "Requirement already satisfied: soundfile in c:\\users\\mohit\\anaconda3\\lib\\site-packages (0.13.1)\n",
      "Requirement already satisfied: cffi>=1.0 in c:\\users\\mohit\\anaconda3\\lib\\site-packages (from soundfile) (1.15.1)\n",
      "Requirement already satisfied: numpy in c:\\users\\mohit\\anaconda3\\lib\\site-packages (from soundfile) (1.24.4)\n",
      "Requirement already satisfied: pycparser in c:\\users\\mohit\\anaconda3\\lib\\site-packages (from cffi>=1.0->soundfile) (2.21)\n",
      "Note: you may need to restart the kernel to use updated packages.\n"
     ]
    }
   ],
   "source": [
    "pip install soundfile"
   ]
  },
  {
   "cell_type": "code",
   "execution_count": 1,
   "id": "5a834c46",
   "metadata": {},
   "outputs": [
    {
     "name": "stderr",
     "output_type": "stream",
     "text": [
      "C:\\Users\\mohit\\anaconda3\\Lib\\site-packages\\paramiko\\transport.py:219: CryptographyDeprecationWarning: Blowfish has been deprecated\n",
      "  \"class\": algorithms.Blowfish,\n"
     ]
    },
    {
     "name": "stdout",
     "output_type": "stream",
     "text": [
      "Error processing 03-02-01-01-01-02-03.wav: melspectrogram() takes 0 positional arguments but 1 positional argument (and 1 keyword-only argument) were given\n",
      "Error processing 03-02-01-01-02-01-03.wav: melspectrogram() takes 0 positional arguments but 1 positional argument (and 1 keyword-only argument) were given\n",
      "Error processing 03-02-01-01-02-02-03.wav: melspectrogram() takes 0 positional arguments but 1 positional argument (and 1 keyword-only argument) were given\n",
      "Error processing 03-02-02-01-01-01-03.wav: melspectrogram() takes 0 positional arguments but 1 positional argument (and 1 keyword-only argument) were given\n",
      "Error processing 03-02-02-01-01-02-03.wav: melspectrogram() takes 0 positional arguments but 1 positional argument (and 1 keyword-only argument) were given\n",
      "Error processing 03-02-02-01-02-01-03.wav: melspectrogram() takes 0 positional arguments but 1 positional argument (and 1 keyword-only argument) were given\n",
      "Error processing 03-02-02-01-02-02-03.wav: melspectrogram() takes 0 positional arguments but 1 positional argument (and 1 keyword-only argument) were given\n",
      "Error processing 03-02-02-02-01-01-03.wav: melspectrogram() takes 0 positional arguments but 1 positional argument (and 1 keyword-only argument) were given\n",
      "Error processing 03-02-02-02-01-02-03.wav: melspectrogram() takes 0 positional arguments but 1 positional argument (and 1 keyword-only argument) were given\n",
      "Error processing 03-02-02-02-02-01-03.wav: melspectrogram() takes 0 positional arguments but 1 positional argument (and 1 keyword-only argument) were given\n",
      "Error processing 03-02-02-02-02-02-03.wav: melspectrogram() takes 0 positional arguments but 1 positional argument (and 1 keyword-only argument) were given\n",
      "Error processing 03-02-03-01-01-01-03.wav: melspectrogram() takes 0 positional arguments but 1 positional argument (and 1 keyword-only argument) were given\n",
      "\n",
      "All results saved to predictions.csv\n"
     ]
    }
   ],
   "source": [
    "from test_model import test_model_on_folder\n",
    "test_model_on_folder(\"../test_wavs/\")\n"
   ]
  },
  {
   "cell_type": "code",
   "execution_count": 5,
   "id": "c2d7e6fa",
   "metadata": {},
   "outputs": [
    {
     "name": "stdout",
     "output_type": "stream",
     "text": [
      "Error processing 03-02-01-01-01-02-03.wav: melspectrogram() takes 0 positional arguments but 1 positional argument (and 1 keyword-only argument) were given\n",
      "Error processing 03-02-01-01-02-01-03.wav: melspectrogram() takes 0 positional arguments but 1 positional argument (and 1 keyword-only argument) were given\n",
      "Error processing 03-02-01-01-02-02-03.wav: melspectrogram() takes 0 positional arguments but 1 positional argument (and 1 keyword-only argument) were given\n",
      "Error processing 03-02-02-01-01-01-03.wav: melspectrogram() takes 0 positional arguments but 1 positional argument (and 1 keyword-only argument) were given\n",
      "Error processing 03-02-02-01-01-02-03.wav: melspectrogram() takes 0 positional arguments but 1 positional argument (and 1 keyword-only argument) were given\n",
      "Error processing 03-02-02-01-02-01-03.wav: melspectrogram() takes 0 positional arguments but 1 positional argument (and 1 keyword-only argument) were given\n",
      "Error processing 03-02-02-01-02-02-03.wav: melspectrogram() takes 0 positional arguments but 1 positional argument (and 1 keyword-only argument) were given\n",
      "Error processing 03-02-02-02-01-01-03.wav: melspectrogram() takes 0 positional arguments but 1 positional argument (and 1 keyword-only argument) were given\n",
      "Error processing 03-02-02-02-01-02-03.wav: melspectrogram() takes 0 positional arguments but 1 positional argument (and 1 keyword-only argument) were given\n",
      "Error processing 03-02-02-02-02-01-03.wav: melspectrogram() takes 0 positional arguments but 1 positional argument (and 1 keyword-only argument) were given\n",
      "Error processing 03-02-02-02-02-02-03.wav: melspectrogram() takes 0 positional arguments but 1 positional argument (and 1 keyword-only argument) were given\n",
      "Error processing 03-02-03-01-01-01-03.wav: melspectrogram() takes 0 positional arguments but 1 positional argument (and 1 keyword-only argument) were given\n",
      "\n",
      "All results saved to predictions.csv\n"
     ]
    }
   ],
   "source": [
    "from test_model import test_model_on_folder\n",
    "test_model_on_folder(\"../test_wavs/\")"
   ]
  },
  {
   "cell_type": "code",
   "execution_count": 1,
   "id": "3a50eec8",
   "metadata": {},
   "outputs": [
    {
     "name": "stderr",
     "output_type": "stream",
     "text": [
      "C:\\Users\\mohit\\anaconda3\\Lib\\site-packages\\paramiko\\transport.py:219: CryptographyDeprecationWarning: Blowfish has been deprecated\n",
      "  \"class\": algorithms.Blowfish,\n"
     ]
    },
    {
     "name": "stdout",
     "output_type": "stream",
     "text": [
      "Error processing 03-02-01-01-01-02-03.wav: X has 197 features, but LogisticRegression is expecting 20 features as input.\n",
      "Error processing 03-02-01-01-02-01-03.wav: X has 197 features, but LogisticRegression is expecting 20 features as input.\n",
      "Error processing 03-02-01-01-02-02-03.wav: X has 197 features, but LogisticRegression is expecting 20 features as input.\n",
      "Error processing 03-02-02-01-01-01-03.wav: X has 197 features, but LogisticRegression is expecting 20 features as input.\n",
      "Error processing 03-02-02-01-01-02-03.wav: X has 197 features, but LogisticRegression is expecting 20 features as input.\n",
      "Error processing 03-02-02-01-02-01-03.wav: X has 197 features, but LogisticRegression is expecting 20 features as input.\n",
      "Error processing 03-02-02-01-02-02-03.wav: X has 197 features, but LogisticRegression is expecting 20 features as input.\n",
      "Error processing 03-02-02-02-01-01-03.wav: X has 197 features, but LogisticRegression is expecting 20 features as input.\n",
      "Error processing 03-02-02-02-01-02-03.wav: X has 197 features, but LogisticRegression is expecting 20 features as input.\n",
      "Error processing 03-02-02-02-02-01-03.wav: X has 197 features, but LogisticRegression is expecting 20 features as input.\n",
      "Error processing 03-02-02-02-02-02-03.wav: X has 197 features, but LogisticRegression is expecting 20 features as input.\n",
      "Error processing 03-02-03-01-01-01-03.wav: X has 197 features, but LogisticRegression is expecting 20 features as input.\n",
      "\n",
      "All results saved to predictions.csv\n"
     ]
    }
   ],
   "source": [
    "from test_model import test_model_on_folder\n",
    "test_model_on_folder(\"../test_wavs/\")"
   ]
  },
  {
   "cell_type": "code",
   "execution_count": 5,
   "id": "4dc263da",
   "metadata": {},
   "outputs": [
    {
     "name": "stdout",
     "output_type": "stream",
     "text": [
      "Predicted Emotion: happy\n"
     ]
    },
    {
     "name": "stderr",
     "output_type": "stream",
     "text": [
      "C:\\Users\\mohit\\anaconda3\\Lib\\site-packages\\sklearn\\utils\\validation.py:2739: UserWarning: X does not have valid feature names, but RandomForestClassifier was fitted with feature names\n",
      "  warnings.warn(\n",
      "C:\\Users\\mohit\\anaconda3\\Lib\\site-packages\\sklearn\\utils\\deprecation.py:151: FutureWarning: 'force_all_finite' was renamed to 'ensure_all_finite' in 1.6 and will be removed in 1.8.\n",
      "  warnings.warn(\n",
      "C:\\Users\\mohit\\anaconda3\\Lib\\site-packages\\sklearn\\utils\\deprecation.py:151: FutureWarning: 'force_all_finite' was renamed to 'ensure_all_finite' in 1.6 and will be removed in 1.8.\n",
      "  warnings.warn(\n"
     ]
    }
   ],
   "source": [
    "from inference import predict_emotion\n",
    "\n",
    "# ✅ test_wavs is one level up from scripts\n",
    "emotion = predict_emotion(\"../test_wavs/cup.wav\")\n",
    "print(\"Predicted Emotion:\", emotion)\n"
   ]
  },
  {
   "cell_type": "code",
   "execution_count": 6,
   "id": "dbb92dc9",
   "metadata": {},
   "outputs": [
    {
     "name": "stderr",
     "output_type": "stream",
     "text": [
      "C:\\Users\\mohit\\anaconda3\\Lib\\site-packages\\librosa\\core\\spectrum.py:266: UserWarning: n_fft=1024 is too large for input signal of length=1012\n",
      "  warnings.warn(\n",
      "C:\\Users\\mohit\\anaconda3\\Lib\\site-packages\\sklearn\\utils\\validation.py:2739: UserWarning: X does not have valid feature names, but RandomForestClassifier was fitted with feature names\n",
      "  warnings.warn(\n",
      "C:\\Users\\mohit\\anaconda3\\Lib\\site-packages\\sklearn\\utils\\deprecation.py:151: FutureWarning: 'force_all_finite' was renamed to 'ensure_all_finite' in 1.6 and will be removed in 1.8.\n",
      "  warnings.warn(\n",
      "C:\\Users\\mohit\\anaconda3\\Lib\\site-packages\\sklearn\\utils\\deprecation.py:151: FutureWarning: 'force_all_finite' was renamed to 'ensure_all_finite' in 1.6 and will be removed in 1.8.\n",
      "  warnings.warn(\n"
     ]
    },
    {
     "name": "stdout",
     "output_type": "stream",
     "text": [
      "03-01-01-01-01-02-15.wav → happy\n"
     ]
    },
    {
     "name": "stderr",
     "output_type": "stream",
     "text": [
      "C:\\Users\\mohit\\anaconda3\\Lib\\site-packages\\librosa\\core\\spectrum.py:266: UserWarning: n_fft=1024 is too large for input signal of length=1012\n",
      "  warnings.warn(\n",
      "C:\\Users\\mohit\\anaconda3\\Lib\\site-packages\\sklearn\\utils\\validation.py:2739: UserWarning: X does not have valid feature names, but RandomForestClassifier was fitted with feature names\n",
      "  warnings.warn(\n",
      "C:\\Users\\mohit\\anaconda3\\Lib\\site-packages\\sklearn\\utils\\deprecation.py:151: FutureWarning: 'force_all_finite' was renamed to 'ensure_all_finite' in 1.6 and will be removed in 1.8.\n",
      "  warnings.warn(\n",
      "C:\\Users\\mohit\\anaconda3\\Lib\\site-packages\\sklearn\\utils\\deprecation.py:151: FutureWarning: 'force_all_finite' was renamed to 'ensure_all_finite' in 1.6 and will be removed in 1.8.\n",
      "  warnings.warn(\n"
     ]
    },
    {
     "name": "stdout",
     "output_type": "stream",
     "text": [
      "03-01-01-01-02-01-15.wav → happy\n"
     ]
    },
    {
     "name": "stderr",
     "output_type": "stream",
     "text": [
      "C:\\Users\\mohit\\anaconda3\\Lib\\site-packages\\librosa\\core\\spectrum.py:266: UserWarning: n_fft=1024 is too large for input signal of length=1001\n",
      "  warnings.warn(\n",
      "C:\\Users\\mohit\\anaconda3\\Lib\\site-packages\\sklearn\\utils\\validation.py:2739: UserWarning: X does not have valid feature names, but RandomForestClassifier was fitted with feature names\n",
      "  warnings.warn(\n",
      "C:\\Users\\mohit\\anaconda3\\Lib\\site-packages\\sklearn\\utils\\deprecation.py:151: FutureWarning: 'force_all_finite' was renamed to 'ensure_all_finite' in 1.6 and will be removed in 1.8.\n",
      "  warnings.warn(\n",
      "C:\\Users\\mohit\\anaconda3\\Lib\\site-packages\\sklearn\\utils\\deprecation.py:151: FutureWarning: 'force_all_finite' was renamed to 'ensure_all_finite' in 1.6 and will be removed in 1.8.\n",
      "  warnings.warn(\n"
     ]
    },
    {
     "name": "stdout",
     "output_type": "stream",
     "text": [
      "03-01-01-01-02-02-15.wav → happy\n"
     ]
    },
    {
     "name": "stderr",
     "output_type": "stream",
     "text": [
      "C:\\Users\\mohit\\anaconda3\\Lib\\site-packages\\sklearn\\utils\\validation.py:2739: UserWarning: X does not have valid feature names, but RandomForestClassifier was fitted with feature names\n",
      "  warnings.warn(\n",
      "C:\\Users\\mohit\\anaconda3\\Lib\\site-packages\\sklearn\\utils\\deprecation.py:151: FutureWarning: 'force_all_finite' was renamed to 'ensure_all_finite' in 1.6 and will be removed in 1.8.\n",
      "  warnings.warn(\n",
      "C:\\Users\\mohit\\anaconda3\\Lib\\site-packages\\sklearn\\utils\\deprecation.py:151: FutureWarning: 'force_all_finite' was renamed to 'ensure_all_finite' in 1.6 and will be removed in 1.8.\n",
      "  warnings.warn(\n"
     ]
    },
    {
     "name": "stdout",
     "output_type": "stream",
     "text": [
      "03-01-02-01-01-01-15.wav → sad\n"
     ]
    },
    {
     "name": "stderr",
     "output_type": "stream",
     "text": [
      "C:\\Users\\mohit\\anaconda3\\Lib\\site-packages\\sklearn\\utils\\validation.py:2739: UserWarning: X does not have valid feature names, but RandomForestClassifier was fitted with feature names\n",
      "  warnings.warn(\n",
      "C:\\Users\\mohit\\anaconda3\\Lib\\site-packages\\sklearn\\utils\\deprecation.py:151: FutureWarning: 'force_all_finite' was renamed to 'ensure_all_finite' in 1.6 and will be removed in 1.8.\n",
      "  warnings.warn(\n",
      "C:\\Users\\mohit\\anaconda3\\Lib\\site-packages\\sklearn\\utils\\deprecation.py:151: FutureWarning: 'force_all_finite' was renamed to 'ensure_all_finite' in 1.6 and will be removed in 1.8.\n",
      "  warnings.warn(\n"
     ]
    },
    {
     "name": "stdout",
     "output_type": "stream",
     "text": [
      "03-01-02-01-01-02-15.wav → sad\n"
     ]
    },
    {
     "name": "stderr",
     "output_type": "stream",
     "text": [
      "C:\\Users\\mohit\\anaconda3\\Lib\\site-packages\\sklearn\\utils\\validation.py:2739: UserWarning: X does not have valid feature names, but RandomForestClassifier was fitted with feature names\n",
      "  warnings.warn(\n",
      "C:\\Users\\mohit\\anaconda3\\Lib\\site-packages\\sklearn\\utils\\deprecation.py:151: FutureWarning: 'force_all_finite' was renamed to 'ensure_all_finite' in 1.6 and will be removed in 1.8.\n",
      "  warnings.warn(\n",
      "C:\\Users\\mohit\\anaconda3\\Lib\\site-packages\\sklearn\\utils\\deprecation.py:151: FutureWarning: 'force_all_finite' was renamed to 'ensure_all_finite' in 1.6 and will be removed in 1.8.\n",
      "  warnings.warn(\n"
     ]
    },
    {
     "name": "stdout",
     "output_type": "stream",
     "text": [
      "03-01-02-01-02-01-15.wav → happy\n"
     ]
    },
    {
     "name": "stderr",
     "output_type": "stream",
     "text": [
      "C:\\Users\\mohit\\anaconda3\\Lib\\site-packages\\sklearn\\utils\\validation.py:2739: UserWarning: X does not have valid feature names, but RandomForestClassifier was fitted with feature names\n",
      "  warnings.warn(\n",
      "C:\\Users\\mohit\\anaconda3\\Lib\\site-packages\\sklearn\\utils\\deprecation.py:151: FutureWarning: 'force_all_finite' was renamed to 'ensure_all_finite' in 1.6 and will be removed in 1.8.\n",
      "  warnings.warn(\n",
      "C:\\Users\\mohit\\anaconda3\\Lib\\site-packages\\sklearn\\utils\\deprecation.py:151: FutureWarning: 'force_all_finite' was renamed to 'ensure_all_finite' in 1.6 and will be removed in 1.8.\n",
      "  warnings.warn(\n"
     ]
    },
    {
     "name": "stdout",
     "output_type": "stream",
     "text": [
      "03-01-02-01-02-02-15.wav → happy\n"
     ]
    },
    {
     "name": "stderr",
     "output_type": "stream",
     "text": [
      "C:\\Users\\mohit\\anaconda3\\Lib\\site-packages\\sklearn\\utils\\validation.py:2739: UserWarning: X does not have valid feature names, but RandomForestClassifier was fitted with feature names\n",
      "  warnings.warn(\n",
      "C:\\Users\\mohit\\anaconda3\\Lib\\site-packages\\sklearn\\utils\\deprecation.py:151: FutureWarning: 'force_all_finite' was renamed to 'ensure_all_finite' in 1.6 and will be removed in 1.8.\n",
      "  warnings.warn(\n",
      "C:\\Users\\mohit\\anaconda3\\Lib\\site-packages\\sklearn\\utils\\deprecation.py:151: FutureWarning: 'force_all_finite' was renamed to 'ensure_all_finite' in 1.6 and will be removed in 1.8.\n",
      "  warnings.warn(\n"
     ]
    },
    {
     "name": "stdout",
     "output_type": "stream",
     "text": [
      "03-01-02-02-01-01-15.wav → sad\n"
     ]
    },
    {
     "name": "stderr",
     "output_type": "stream",
     "text": [
      "C:\\Users\\mohit\\anaconda3\\Lib\\site-packages\\sklearn\\utils\\validation.py:2739: UserWarning: X does not have valid feature names, but RandomForestClassifier was fitted with feature names\n",
      "  warnings.warn(\n",
      "C:\\Users\\mohit\\anaconda3\\Lib\\site-packages\\sklearn\\utils\\deprecation.py:151: FutureWarning: 'force_all_finite' was renamed to 'ensure_all_finite' in 1.6 and will be removed in 1.8.\n",
      "  warnings.warn(\n",
      "C:\\Users\\mohit\\anaconda3\\Lib\\site-packages\\sklearn\\utils\\deprecation.py:151: FutureWarning: 'force_all_finite' was renamed to 'ensure_all_finite' in 1.6 and will be removed in 1.8.\n",
      "  warnings.warn(\n"
     ]
    },
    {
     "name": "stdout",
     "output_type": "stream",
     "text": [
      "03-01-02-02-01-02-15.wav → sad\n"
     ]
    },
    {
     "name": "stderr",
     "output_type": "stream",
     "text": [
      "C:\\Users\\mohit\\anaconda3\\Lib\\site-packages\\sklearn\\utils\\validation.py:2739: UserWarning: X does not have valid feature names, but RandomForestClassifier was fitted with feature names\n",
      "  warnings.warn(\n",
      "C:\\Users\\mohit\\anaconda3\\Lib\\site-packages\\sklearn\\utils\\deprecation.py:151: FutureWarning: 'force_all_finite' was renamed to 'ensure_all_finite' in 1.6 and will be removed in 1.8.\n",
      "  warnings.warn(\n",
      "C:\\Users\\mohit\\anaconda3\\Lib\\site-packages\\sklearn\\utils\\deprecation.py:151: FutureWarning: 'force_all_finite' was renamed to 'ensure_all_finite' in 1.6 and will be removed in 1.8.\n",
      "  warnings.warn(\n"
     ]
    },
    {
     "name": "stdout",
     "output_type": "stream",
     "text": [
      "03-01-02-02-02-01-15.wav → angry\n"
     ]
    },
    {
     "name": "stderr",
     "output_type": "stream",
     "text": [
      "C:\\Users\\mohit\\anaconda3\\Lib\\site-packages\\sklearn\\utils\\validation.py:2739: UserWarning: X does not have valid feature names, but RandomForestClassifier was fitted with feature names\n",
      "  warnings.warn(\n",
      "C:\\Users\\mohit\\anaconda3\\Lib\\site-packages\\sklearn\\utils\\deprecation.py:151: FutureWarning: 'force_all_finite' was renamed to 'ensure_all_finite' in 1.6 and will be removed in 1.8.\n",
      "  warnings.warn(\n",
      "C:\\Users\\mohit\\anaconda3\\Lib\\site-packages\\sklearn\\utils\\deprecation.py:151: FutureWarning: 'force_all_finite' was renamed to 'ensure_all_finite' in 1.6 and will be removed in 1.8.\n",
      "  warnings.warn(\n"
     ]
    },
    {
     "name": "stdout",
     "output_type": "stream",
     "text": [
      "03-01-02-02-02-02-15.wav → happy\n"
     ]
    },
    {
     "name": "stderr",
     "output_type": "stream",
     "text": [
      "C:\\Users\\mohit\\anaconda3\\Lib\\site-packages\\librosa\\core\\spectrum.py:266: UserWarning: n_fft=1024 is too large for input signal of length=1001\n",
      "  warnings.warn(\n",
      "C:\\Users\\mohit\\anaconda3\\Lib\\site-packages\\sklearn\\utils\\validation.py:2739: UserWarning: X does not have valid feature names, but RandomForestClassifier was fitted with feature names\n",
      "  warnings.warn(\n",
      "C:\\Users\\mohit\\anaconda3\\Lib\\site-packages\\sklearn\\utils\\deprecation.py:151: FutureWarning: 'force_all_finite' was renamed to 'ensure_all_finite' in 1.6 and will be removed in 1.8.\n",
      "  warnings.warn(\n",
      "C:\\Users\\mohit\\anaconda3\\Lib\\site-packages\\sklearn\\utils\\deprecation.py:151: FutureWarning: 'force_all_finite' was renamed to 'ensure_all_finite' in 1.6 and will be removed in 1.8.\n",
      "  warnings.warn(\n"
     ]
    },
    {
     "name": "stdout",
     "output_type": "stream",
     "text": [
      "03-01-03-01-01-01-15.wav → happy\n"
     ]
    },
    {
     "name": "stderr",
     "output_type": "stream",
     "text": [
      "C:\\Users\\mohit\\anaconda3\\Lib\\site-packages\\librosa\\core\\spectrum.py:266: UserWarning: n_fft=1024 is too large for input signal of length=978\n",
      "  warnings.warn(\n",
      "C:\\Users\\mohit\\anaconda3\\Lib\\site-packages\\sklearn\\utils\\validation.py:2739: UserWarning: X does not have valid feature names, but RandomForestClassifier was fitted with feature names\n",
      "  warnings.warn(\n",
      "C:\\Users\\mohit\\anaconda3\\Lib\\site-packages\\sklearn\\utils\\deprecation.py:151: FutureWarning: 'force_all_finite' was renamed to 'ensure_all_finite' in 1.6 and will be removed in 1.8.\n",
      "  warnings.warn(\n",
      "C:\\Users\\mohit\\anaconda3\\Lib\\site-packages\\sklearn\\utils\\deprecation.py:151: FutureWarning: 'force_all_finite' was renamed to 'ensure_all_finite' in 1.6 and will be removed in 1.8.\n",
      "  warnings.warn(\n"
     ]
    },
    {
     "name": "stdout",
     "output_type": "stream",
     "text": [
      "03-01-03-01-01-02-15.wav → sad\n"
     ]
    },
    {
     "name": "stderr",
     "output_type": "stream",
     "text": [
      "C:\\Users\\mohit\\anaconda3\\Lib\\site-packages\\librosa\\core\\spectrum.py:266: UserWarning: n_fft=1024 is too large for input signal of length=978\n",
      "  warnings.warn(\n",
      "C:\\Users\\mohit\\anaconda3\\Lib\\site-packages\\sklearn\\utils\\validation.py:2739: UserWarning: X does not have valid feature names, but RandomForestClassifier was fitted with feature names\n",
      "  warnings.warn(\n",
      "C:\\Users\\mohit\\anaconda3\\Lib\\site-packages\\sklearn\\utils\\deprecation.py:151: FutureWarning: 'force_all_finite' was renamed to 'ensure_all_finite' in 1.6 and will be removed in 1.8.\n",
      "  warnings.warn(\n",
      "C:\\Users\\mohit\\anaconda3\\Lib\\site-packages\\sklearn\\utils\\deprecation.py:151: FutureWarning: 'force_all_finite' was renamed to 'ensure_all_finite' in 1.6 and will be removed in 1.8.\n",
      "  warnings.warn(\n"
     ]
    },
    {
     "name": "stdout",
     "output_type": "stream",
     "text": [
      "03-01-03-01-02-01-15.wav → happy\n"
     ]
    },
    {
     "name": "stderr",
     "output_type": "stream",
     "text": [
      "C:\\Users\\mohit\\anaconda3\\Lib\\site-packages\\librosa\\core\\spectrum.py:266: UserWarning: n_fft=1024 is too large for input signal of length=1012\n",
      "  warnings.warn(\n",
      "C:\\Users\\mohit\\anaconda3\\Lib\\site-packages\\sklearn\\utils\\validation.py:2739: UserWarning: X does not have valid feature names, but RandomForestClassifier was fitted with feature names\n",
      "  warnings.warn(\n",
      "C:\\Users\\mohit\\anaconda3\\Lib\\site-packages\\sklearn\\utils\\deprecation.py:151: FutureWarning: 'force_all_finite' was renamed to 'ensure_all_finite' in 1.6 and will be removed in 1.8.\n",
      "  warnings.warn(\n",
      "C:\\Users\\mohit\\anaconda3\\Lib\\site-packages\\sklearn\\utils\\deprecation.py:151: FutureWarning: 'force_all_finite' was renamed to 'ensure_all_finite' in 1.6 and will be removed in 1.8.\n",
      "  warnings.warn(\n"
     ]
    },
    {
     "name": "stdout",
     "output_type": "stream",
     "text": [
      "03-01-03-01-02-02-15.wav → happy\n"
     ]
    },
    {
     "name": "stderr",
     "output_type": "stream",
     "text": [
      "C:\\Users\\mohit\\anaconda3\\Lib\\site-packages\\sklearn\\utils\\validation.py:2739: UserWarning: X does not have valid feature names, but RandomForestClassifier was fitted with feature names\n",
      "  warnings.warn(\n",
      "C:\\Users\\mohit\\anaconda3\\Lib\\site-packages\\sklearn\\utils\\deprecation.py:151: FutureWarning: 'force_all_finite' was renamed to 'ensure_all_finite' in 1.6 and will be removed in 1.8.\n",
      "  warnings.warn(\n",
      "C:\\Users\\mohit\\anaconda3\\Lib\\site-packages\\sklearn\\utils\\deprecation.py:151: FutureWarning: 'force_all_finite' was renamed to 'ensure_all_finite' in 1.6 and will be removed in 1.8.\n",
      "  warnings.warn(\n"
     ]
    },
    {
     "name": "stdout",
     "output_type": "stream",
     "text": [
      "03-01-03-02-01-01-15.wav → sad\n"
     ]
    },
    {
     "name": "stderr",
     "output_type": "stream",
     "text": [
      "C:\\Users\\mohit\\anaconda3\\Lib\\site-packages\\sklearn\\utils\\validation.py:2739: UserWarning: X does not have valid feature names, but RandomForestClassifier was fitted with feature names\n",
      "  warnings.warn(\n",
      "C:\\Users\\mohit\\anaconda3\\Lib\\site-packages\\sklearn\\utils\\deprecation.py:151: FutureWarning: 'force_all_finite' was renamed to 'ensure_all_finite' in 1.6 and will be removed in 1.8.\n",
      "  warnings.warn(\n",
      "C:\\Users\\mohit\\anaconda3\\Lib\\site-packages\\sklearn\\utils\\deprecation.py:151: FutureWarning: 'force_all_finite' was renamed to 'ensure_all_finite' in 1.6 and will be removed in 1.8.\n",
      "  warnings.warn(\n"
     ]
    },
    {
     "name": "stdout",
     "output_type": "stream",
     "text": [
      "03-01-03-02-01-02-15.wav → sad\n"
     ]
    },
    {
     "name": "stderr",
     "output_type": "stream",
     "text": [
      "C:\\Users\\mohit\\anaconda3\\Lib\\site-packages\\sklearn\\utils\\validation.py:2739: UserWarning: X does not have valid feature names, but RandomForestClassifier was fitted with feature names\n",
      "  warnings.warn(\n",
      "C:\\Users\\mohit\\anaconda3\\Lib\\site-packages\\sklearn\\utils\\deprecation.py:151: FutureWarning: 'force_all_finite' was renamed to 'ensure_all_finite' in 1.6 and will be removed in 1.8.\n",
      "  warnings.warn(\n",
      "C:\\Users\\mohit\\anaconda3\\Lib\\site-packages\\sklearn\\utils\\deprecation.py:151: FutureWarning: 'force_all_finite' was renamed to 'ensure_all_finite' in 1.6 and will be removed in 1.8.\n",
      "  warnings.warn(\n"
     ]
    },
    {
     "name": "stdout",
     "output_type": "stream",
     "text": [
      "03-01-03-02-02-01-15.wav → sad\n"
     ]
    },
    {
     "name": "stderr",
     "output_type": "stream",
     "text": [
      "C:\\Users\\mohit\\anaconda3\\Lib\\site-packages\\librosa\\core\\spectrum.py:266: UserWarning: n_fft=1024 is too large for input signal of length=989\n",
      "  warnings.warn(\n",
      "C:\\Users\\mohit\\anaconda3\\Lib\\site-packages\\sklearn\\utils\\validation.py:2739: UserWarning: X does not have valid feature names, but RandomForestClassifier was fitted with feature names\n",
      "  warnings.warn(\n",
      "C:\\Users\\mohit\\anaconda3\\Lib\\site-packages\\sklearn\\utils\\deprecation.py:151: FutureWarning: 'force_all_finite' was renamed to 'ensure_all_finite' in 1.6 and will be removed in 1.8.\n",
      "  warnings.warn(\n",
      "C:\\Users\\mohit\\anaconda3\\Lib\\site-packages\\sklearn\\utils\\deprecation.py:151: FutureWarning: 'force_all_finite' was renamed to 'ensure_all_finite' in 1.6 and will be removed in 1.8.\n",
      "  warnings.warn(\n"
     ]
    },
    {
     "name": "stdout",
     "output_type": "stream",
     "text": [
      "03-01-03-02-02-02-15.wav → sad\n",
      "03-01-04-01-01-01-15.wav → happy\n",
      "\\All predictions saved to predictions.csv\n"
     ]
    },
    {
     "name": "stderr",
     "output_type": "stream",
     "text": [
      "C:\\Users\\mohit\\anaconda3\\Lib\\site-packages\\sklearn\\utils\\validation.py:2739: UserWarning: X does not have valid feature names, but RandomForestClassifier was fitted with feature names\n",
      "  warnings.warn(\n",
      "C:\\Users\\mohit\\anaconda3\\Lib\\site-packages\\sklearn\\utils\\deprecation.py:151: FutureWarning: 'force_all_finite' was renamed to 'ensure_all_finite' in 1.6 and will be removed in 1.8.\n",
      "  warnings.warn(\n",
      "C:\\Users\\mohit\\anaconda3\\Lib\\site-packages\\sklearn\\utils\\deprecation.py:151: FutureWarning: 'force_all_finite' was renamed to 'ensure_all_finite' in 1.6 and will be removed in 1.8.\n",
      "  warnings.warn(\n"
     ]
    }
   ],
   "source": [
    "from test_model import test_model_on_folder\n",
    "test_model_on_folder(\"../test_wavs/\")"
   ]
  },
  {
   "cell_type": "code",
   "execution_count": null,
   "id": "a5da62ad",
   "metadata": {},
   "outputs": [],
   "source": []
  }
 ],
 "metadata": {
  "kernelspec": {
   "display_name": "Python 3 (ipykernel)",
   "language": "python",
   "name": "python3"
  },
  "language_info": {
   "codemirror_mode": {
    "name": "ipython",
    "version": 3
   },
   "file_extension": ".py",
   "mimetype": "text/x-python",
   "name": "python",
   "nbconvert_exporter": "python",
   "pygments_lexer": "ipython3",
   "version": "3.11.5"
  }
 },
 "nbformat": 4,
 "nbformat_minor": 5
}
